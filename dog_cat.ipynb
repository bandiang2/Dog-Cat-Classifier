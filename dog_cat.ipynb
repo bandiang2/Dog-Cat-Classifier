{
 "cells": [
  {
   "cell_type": "code",
   "execution_count": 1,
   "metadata": {},
   "outputs": [],
   "source": [
    "from __future__ import print_function\n",
    "\n",
    "import argparse\n",
    "import csv\n",
    "import os\n",
    "import os.path\n",
    "import shutil\n",
    "import time\n",
    "import matplotlib.pyplot as plt\n",
    "import numpy\n",
    "from random import shuffle\n",
    "%matplotlib inline\n",
    "\n",
    "import numpy as np\n",
    "import torch\n",
    "import torch.backends.cudnn as cudnn\n",
    "import torch.nn as nn\n",
    "import torch.nn.parallel\n",
    "import torch.optim as optim\n",
    "import torch.utils.data as data\n",
    "import torchvision.datasets as datasets\n",
    "import torchvision.models as models\n",
    "import torchvision.transforms as transforms\n",
    "import torch.nn.functional as F\n",
    "from torch.autograd import Variable\n",
    "import torchvision\n",
    "\n",
    "import glob\n",
    "import cv2\n",
    "\n",
    "# The module also provides a number of factory functions, \n",
    "# including functions to load images from files, and to create new images.\n",
    "from PIL import Image"
   ]
  },
  {
   "cell_type": "markdown",
   "metadata": {},
   "source": [
    "# Load Data Class"
   ]
  },
  {
   "cell_type": "code",
   "execution_count": 2,
   "metadata": {},
   "outputs": [],
   "source": [
    "class DatasetCatDog(data.Dataset):\n",
    "    def __init__(self, root, transform=None):\n",
    "        images = []\n",
    "        for filename in os.listdir(root):\n",
    "            if filename.endswith('jpg'):\n",
    "                images.append('{}'.format(filename))\n",
    "\n",
    "        self.root = root\n",
    "        self.imgs = images\n",
    "        self.transform = transform\n",
    "\n",
    "    def __getitem__(self, index):\n",
    "        filename = self.imgs[index]\n",
    "        img = Image.open(os.path.join(self.root, filename))\n",
    "        if self.transform is not None:\n",
    "            img = self.transform(img)\n",
    "        return img, filename\n",
    "\n",
    "    def __len__(self):\n",
    "        return len(self.imgs)"
   ]
  },
  {
   "cell_type": "code",
   "execution_count": 3,
   "metadata": {},
   "outputs": [
    {
     "name": "stdout",
     "output_type": "stream",
     "text": [
      "/home/aims/Dog-Cat-Classifier\r\n"
     ]
    }
   ],
   "source": [
    "!pwd"
   ]
  },
  {
   "cell_type": "code",
   "execution_count": 4,
   "metadata": {},
   "outputs": [],
   "source": [
    "path = '/home/aims/Documents/AMMI-tutorials/Pytorch/Dog_Cat_Classifier/train'\n",
    "data = DatasetCatDog(path)"
   ]
  },
  {
   "cell_type": "code",
   "execution_count": 5,
   "metadata": {},
   "outputs": [
    {
     "data": {
      "image/png": "[encoded data removed]",
      "text/plain": [
       "<Figure size 432x288 with 2 Axes>"
      ]
     },
     "metadata": {
      "needs_background": "light"
     },
     "output_type": "display_data"
    }
   ],
   "source": [
    "# show some images\n",
    "plt.figure()\n",
    "for i in range(2):\n",
    "    plt.subplot(2, 5, i + 1)\n",
    "    image, name = data.__getitem__(i)\n",
    "    #print(name)\n",
    "    #image.show()\n",
    "    plt.imshow(image)"
   ]
  },
  {
   "cell_type": "code",
   "execution_count": 6,
   "metadata": {},
   "outputs": [],
   "source": [
    "train_path = path + '/*.jpg'\n",
    "# read addresses and labels from the 'train' folder\n",
    "addrs = glob.glob(train_path)"
   ]
  },
  {
   "cell_type": "code",
   "execution_count": null,
   "metadata": {},
   "outputs": [],
   "source": []
  },
  {
   "cell_type": "code",
   "execution_count": 7,
   "metadata": {},
   "outputs": [],
   "source": [
    "labels = [ [1,0] if 'cat' in addr else [0,1] for addr in addrs]"
   ]
  },
  {
   "cell_type": "code",
   "execution_count": null,
   "metadata": {},
   "outputs": [],
   "source": []
  },
  {
   "cell_type": "code",
   "execution_count": 8,
   "metadata": {},
   "outputs": [],
   "source": [
    "def splitData(train_path, shuffle_data = True):\n",
    "    \n",
    "    # read addresses and labels from the 'train' folder\n",
    "    addrs = glob.glob(train_path)\n",
    "    labels = [ [1,0] if 'cat' in addr else [0,1] for addr in addrs]  # 1 = Cat, 0 = Dog\n",
    "    # to shuffle data\n",
    "    if shuffle_data:\n",
    "        c = list(zip(addrs, labels))\n",
    "        shuffle(c)\n",
    "        addrs, labels = zip(*c)\n",
    "        #print(labels[0:10])\n",
    "\n",
    "    # Divide the hata into 60% train, 20% validation, and 20% test\n",
    "    train_addrs = addrs[0:int(0.6*len(addrs))]\n",
    "    train_labels = labels[0:int(0.6*len(labels))]\n",
    "    #train_addrs.size\n",
    "\n",
    "    val_addrs = addrs[int(0.6*len(addrs)):int(0.8*len(addrs))]\n",
    "    val_labels = labels[int(0.6*len(addrs)):int(0.8*len(addrs))]\n",
    "\n",
    "    test_addrs = addrs[int(0.8*len(addrs)):]\n",
    "    test_labels = labels[int(0.8*len(labels)):]\n",
    "    \n",
    "    return train_addrs, train_labels, test_addrs, val_addrs, labels"
   ]
  },
  {
   "cell_type": "code",
   "execution_count": 9,
   "metadata": {},
   "outputs": [],
   "source": [
    "def resizeImage(file, labels, n):\n",
    "    data = []\n",
    "    for i in range(len(file[:n])):\n",
    "        # read an image and resize to (64, 64)\n",
    "        # cv2 load images as BGR, convert it to RGB\n",
    "        addr = file[i]\n",
    "        img = cv2.imread(addr)\n",
    "        img = cv2.resize(img, (64, 64), interpolation=cv2.INTER_CUBIC)\n",
    "        img = cv2.cvtColor(img, cv2.COLOR_BGR2RGB)\n",
    "        data.append([np.array(img), np.array(labels[i])])\n",
    "    shuffle(data)\n",
    "    #np.save(filename+'.npy', data)\n",
    "    return data"
   ]
  },
  {
   "cell_type": "code",
   "execution_count": 10,
   "metadata": {},
   "outputs": [],
   "source": [
    "train_addrs, train_labels, test_addrs, val_addrs, labels = splitData(train_path)"
   ]
  },
  {
   "cell_type": "code",
   "execution_count": 11,
   "metadata": {},
   "outputs": [],
   "source": [
    "train_data = resizeImage(train_addrs, train_labels, 100)\n",
    "test_data = resizeImage(test_addrs, labels, 50)\n",
    "val_data = resizeImage(val_addrs, labels, 50)"
   ]
  },
  {
   "cell_type": "code",
   "execution_count": 12,
   "metadata": {},
   "outputs": [
    {
     "name": "stdout",
     "output_type": "stream",
     "text": [
      "torch.Size([100, 3, 64, 64])\n",
      "torch.Size([100, 2])\n"
     ]
    }
   ],
   "source": [
    "X = np.array([i[0] for i in train_data]).reshape(-1,64,64,3)\n",
    "X = Variable(torch.Tensor(X))\n",
    "X = X.reshape(-1,64,64,3)\n",
    "X = X.permute(0,3,1,2)\n",
    "print(X.shape)\n",
    "#Y = Variable(torch.Tensor(Y))\n",
    "\n",
    "Y = np.array([i[1] for i in train_data])\n",
    "target = Variable(torch.Tensor(Y))\n",
    "target = target.type(torch.LongTensor)\n",
    "\n",
    "print(target.shape)\n",
    "#print(target)"
   ]
  },
  {
   "cell_type": "code",
   "execution_count": 21,
   "metadata": {},
   "outputs": [],
   "source": [
    "cnn = CNN()"
   ]
  },
  {
   "cell_type": "code",
   "execution_count": 22,
   "metadata": {},
   "outputs": [],
   "source": [
    "criterian = nn.CrossEntropyLoss()\n",
    "optimizer = optim.SGD(cnn.parameters(), lr = 0.0001, momentum = 0.9)"
   ]
  },
  {
   "cell_type": "code",
   "execution_count": 23,
   "metadata": {},
   "outputs": [
    {
     "name": "stderr",
     "output_type": "stream",
     "text": [
      "/home/aims/.local/lib/python3.7/site-packages/torch/nn/functional.py:1351: UserWarning: nn.functional.sigmoid is deprecated. Use torch.sigmoid instead.\n",
      "  warnings.warn(\"nn.functional.sigmoid is deprecated. Use torch.sigmoid instead.\")\n"
     ]
    },
    {
     "name": "stdout",
     "output_type": "stream",
     "text": [
      "0 : 0.751392126083374\n"
     ]
    }
   ],
   "source": [
    "for epoch in range(1):\n",
    "    running_loss  = 0.0\n",
    "    optimizer.zero_grad() #zero the parameter gradients\n",
    "    output = cnn(X)\n",
    "    \n",
    "    loss = criterian(output, torch.max(target, 1)[1])\n",
    "    \n",
    "    loss.backward()\n",
    "    optimizer.step()\n",
    "    running_loss += loss.item()\n",
    "    print(epoch, ':', running_loss)"
   ]
  },
  {
   "cell_type": "code",
   "execution_count": 24,
   "metadata": {},
   "outputs": [
    {
     "name": "stdout",
     "output_type": "stream",
     "text": [
      "torch.Size([50, 3, 64, 64])\n",
      "torch.Size([50, 2])\n"
     ]
    }
   ],
   "source": [
    "test = np.array([i[0] for i in test_data]).reshape(-1,64,64,3)\n",
    "test = Variable(torch.Tensor(test))\n",
    "test = test.reshape(-1,64,64,3)\n",
    "test = test.permute(0,3,1,2)\n",
    "print(test.shape)\n",
    "#Y = Variable(torch.Tensor(Y))\n",
    "\n",
    "tlabels = np.array([i[1] for i in test_data])\n",
    "tlabels = Variable(torch.Tensor(tlabels))\n",
    "tlabels = tlabels.type(torch.long)\n",
    "\n",
    "print(tlabels.shape)\n",
    "#print(tlabels)"
   ]
  },
  {
   "cell_type": "code",
   "execution_count": 25,
   "metadata": {},
   "outputs": [
    {
     "name": "stderr",
     "output_type": "stream",
     "text": [
      "/home/aims/.local/lib/python3.7/site-packages/torch/nn/functional.py:1351: UserWarning: nn.functional.sigmoid is deprecated. Use torch.sigmoid instead.\n",
      "  warnings.warn(\"nn.functional.sigmoid is deprecated. Use torch.sigmoid instead.\")\n"
     ]
    },
    {
     "name": "stdout",
     "output_type": "stream",
     "text": [
      "Train accuracy of the network on the100train images: 53.000000 %\n",
      "53 100\n"
     ]
    }
   ],
   "source": [
    "correct = 0\n",
    "total = 0\n",
    "with torch.no_grad():\n",
    "    for data in zip(X,target):\n",
    "        images, labels = data\n",
    "        images = images.reshape(1,3,64,64)\n",
    "        outputs = cnn(images)\n",
    "        _, predicted = torch.max(outputs, 1)\n",
    "        #total += labels.size(0)\n",
    "        if((predicted == 0 and labels[0] == 1) or (predicted == 1 and labels[1]==1) ):\n",
    "            correct+=1\n",
    "        #correct += (predicted == labels).sum().item()\n",
    "        #print(outputs,labels)\n",
    "total = X.shape[0]\n",
    "print('Train accuracy of the network on the' + str(total) +  'train images: %f %%' % (\n",
    "    100 * (correct*1.0) / total) )\n",
    "print(correct, total)"
   ]
  },
  {
   "cell_type": "code",
   "execution_count": 26,
   "metadata": {},
   "outputs": [
    {
     "name": "stderr",
     "output_type": "stream",
     "text": [
      "/home/aims/.local/lib/python3.7/site-packages/torch/nn/functional.py:1351: UserWarning: nn.functional.sigmoid is deprecated. Use torch.sigmoid instead.\n",
      "  warnings.warn(\"nn.functional.sigmoid is deprecated. Use torch.sigmoid instead.\")\n"
     ]
    },
    {
     "name": "stdout",
     "output_type": "stream",
     "text": [
      "Test accuracy of the network on the 50 test images: 62.000000 %\n",
      "31 50\n"
     ]
    }
   ],
   "source": [
    "correct = 0\n",
    "total = 0\n",
    "with torch.no_grad():\n",
    "    for data in zip(test,tlabels):\n",
    "        images, labels = data\n",
    "        images = images.reshape(1,3,64,64)\n",
    "        outputs = cnn(images)\n",
    "        _, predicted = torch.max(outputs, 1)\n",
    "        #total += labels.size(0)\n",
    "        if((predicted == 0 and labels[0] == 1) or (predicted == 1 and labels[1]==1) ):\n",
    "            correct += 1\n",
    "            \n",
    "total = test.shape[0]\n",
    "print('Test accuracy of the network on the ' + str(total) +  ' test images: %f %%' % (\n",
    "    100 * (correct*1.0) / total) )\n",
    "print(correct, total)"
   ]
  },
  {
   "cell_type": "code",
   "execution_count": null,
   "metadata": {},
   "outputs": [],
   "source": []
  },
  {
   "cell_type": "markdown",
   "metadata": {},
   "source": [
    "# Create the model classes"
   ]
  },
  {
   "cell_type": "code",
   "execution_count": 27,
   "metadata": {},
   "outputs": [],
   "source": [
    "class CNN(nn.Module):\n",
    "    def __init__(self):\n",
    "        super(CNN, self).__init__()\n",
    "        #self.n_feature = n_feature\n",
    "        self.conv1 = nn.Conv2d(in_channels=3, out_channels=50, kernel_size=5)\n",
    "        self.conv2 = nn.Conv2d(50, 100, kernel_size=7)\n",
    "        self.fc1 = nn.Linear(100 * 12 * 12, 120)\n",
    "        self.fc2 = nn.Linear(120, 100)\n",
    "        self.fc3 = nn.Linear(100, 2)\n",
    "        \n",
    "    def forward(self, x, verbose=False):\n",
    "        x = self.conv1(x)\n",
    "        x = F.relu(x)\n",
    "        x = F.max_pool2d(x, kernel_size=2)\n",
    "        x = self.conv2(x)\n",
    "        x = F.relu(x)\n",
    "        x = F.max_pool2d(x, kernel_size=2)\n",
    "        x = x.view(-1, 100 * 12 * 12)\n",
    "        x = self.fc1(x)\n",
    "        x = F.relu(x)\n",
    "        x = self.fc2(x)\n",
    "        x = F.relu(x)\n",
    "        x = self.fc3(x)\n",
    "        x = F.sigmoid(x)\n",
    "        return x"
   ]
  },
  {
   "cell_type": "code",
   "execution_count": 28,
   "metadata": {},
   "outputs": [],
   "source": [
    "class CNN2(nn.Module):\n",
    "    def __init__(self):\n",
    "        super(CNN2, self).__init__()\n",
    "        #self.n_feature = n_feature\n",
    "        self.conv1 = nn.Conv2d(in_channels=3, out_channels=50, kernel_size=5)\n",
    "        self.conv2 = nn.Conv2d(50, 100, kernel_size=5)\n",
    "        self.conv3 = nn.Conv2d(100, 80, kernel_size=7)\n",
    "        self.conv4 = nn.Conv2d(80, 100, kernel_size=7)\n",
    "        self.fc1 = nn.Linear(100 * 8 * 8, 120)\n",
    "        self.fc2 = nn.Linear(120, 100)\n",
    "        self.fc3 = nn.Linear(100, 2)\n",
    "        \n",
    "    def forward(self, x, verbose=False):\n",
    "        x = self.conv1(x)\n",
    "        x = F.relu(x)\n",
    "        x = self.conv2(x)\n",
    "        x = F.relu(x)\n",
    "        x = F.max_pool2d(x, kernel_size=2)\n",
    "        x = self.conv3(x)\n",
    "        x = F.relu(x)\n",
    "        x = self.conv4(x)\n",
    "        x = F.relu(x)\n",
    "        x = F.max_pool2d(x, kernel_size=2)\n",
    "        x = x.view(-1, 100 * 8 * 8)\n",
    "        x = self.fc1(x)\n",
    "        x = F.relu(x)\n",
    "        x = self.fc2(x)\n",
    "        x = F.relu(x)\n",
    "        x = self.fc3(x)\n",
    "        x = F.sigmoid(x)\n",
    "        return x"
   ]
  },
  {
   "cell_type": "code",
   "execution_count": 29,
   "metadata": {},
   "outputs": [],
   "source": [
    "cnn2 = CNN2()"
   ]
  },
  {
   "cell_type": "markdown",
   "metadata": {},
   "source": [
    "# Tensorboard Section"
   ]
  },
  {
   "cell_type": "code",
   "execution_count": 45,
   "metadata": {},
   "outputs": [],
   "source": [
    "from torch.utils.tensorboard import SummaryWriter\n",
    "\n",
    "# default `log_dir` is \"runs\" - we'll be more specific here\n",
    "writer = SummaryWriter('runs/cat_dog_experiment_1')"
   ]
  },
  {
   "cell_type": "code",
   "execution_count": 46,
   "metadata": {},
   "outputs": [],
   "source": [
    "# helper function to show an image\n",
    "# (used in the `plot_classes_preds` function below)\n",
    "def matplotlib_imshow(img, one_channel=False):\n",
    "    if one_channel:\n",
    "        img = img.mean(dim=0)\n",
    "    #img = img / 2 + 0.5     # unnormalize\n",
    "    npimg = img.numpy()\n",
    "    if one_channel:\n",
    "        plt.imshow(npimg, cmap=\"Greys\")\n",
    "    else:\n",
    "        plt.imshow(np.transpose(npimg, (1, 2, 0)))"
   ]
  },
  {
   "cell_type": "code",
   "execution_count": 47,
   "metadata": {},
   "outputs": [],
   "source": [
    "img_grid = torchvision.utils.make_grid(X[::20])"
   ]
  },
  {
   "cell_type": "code",
   "execution_count": 48,
   "metadata": {},
   "outputs": [
    {
     "data": {
      "image/png": "[encoded data removed]",
      "text/plain": [
       "<Figure size 432x288 with 1 Axes>"
      ]
     },
     "metadata": {
      "needs_background": "light"
     },
     "output_type": "display_data"
    }
   ],
   "source": [
    "# show images\n",
    "matplotlib_imshow(img_grid, one_channel=True)"
   ]
  },
  {
   "cell_type": "code",
   "execution_count": 49,
   "metadata": {},
   "outputs": [],
   "source": [
    "# write to tensorboard\n",
    "writer.add_image('five_dog_cat_images', img_grid)"
   ]
  },
  {
   "cell_type": "code",
   "execution_count": 50,
   "metadata": {},
   "outputs": [],
   "source": [
    "#!tensorboard --logdir=runs"
   ]
  },
  {
   "cell_type": "code",
   "execution_count": 51,
   "metadata": {},
   "outputs": [
    {
     "name": "stderr",
     "output_type": "stream",
     "text": [
      "/home/aims/.local/lib/python3.7/site-packages/torch/nn/functional.py:1351: UserWarning: nn.functional.sigmoid is deprecated. Use torch.sigmoid instead.\n",
      "  warnings.warn(\"nn.functional.sigmoid is deprecated. Use torch.sigmoid instead.\")\n"
     ]
    }
   ],
   "source": [
    "writer.add_graph(cnn2, X)\n",
    "writer.close()"
   ]
  },
  {
   "cell_type": "code",
   "execution_count": 53,
   "metadata": {},
   "outputs": [
    {
     "name": "stderr",
     "output_type": "stream",
     "text": [
      "/home/aims/.local/lib/python3.7/site-packages/torch/nn/functional.py:1351: UserWarning: nn.functional.sigmoid is deprecated. Use torch.sigmoid instead.\n",
      "  warnings.warn(\"nn.functional.sigmoid is deprecated. Use torch.sigmoid instead.\")\n"
     ]
    }
   ],
   "source": [
    "for i, epoch in enumerate(range(100)):\n",
    "    running_loss  = 0.0\n",
    "    optimizer.zero_grad() #zero the parameter gradients\n",
    "    output = cnn(X)\n",
    "    \n",
    "    loss = criterian(output, torch.max(target, 1)[1])\n",
    "    \n",
    "    loss.backward()\n",
    "    optimizer.step()\n",
    "    running_loss += loss.item()\n",
    "    #print(epoch, ':', running_loss)\n",
    "    \n",
    "    if i % 10 == 9:\n",
    "        writer.add_scalar('Train/Loss', running_loss / 10,\n",
    "                            epoch * len(X) + i)\n",
    "#writer.close()"
   ]
  },
  {
   "cell_type": "code",
   "execution_count": null,
   "metadata": {},
   "outputs": [],
   "source": []
  }
 ],
 "metadata": {
  "kernelspec": {
   "display_name": "Python 3",
   "language": "python",
   "name": "python3"
  },
  "language_info": {
   "codemirror_mode": {
    "name": "ipython",
    "version": 3
   },
   "file_extension": ".py",
   "mimetype": "text/x-python",
   "name": "python",
   "nbconvert_exporter": "python",
   "pygments_lexer": "ipython3",
   "version": "3.7.3"
  }
 },
 "nbformat": 4,
 "nbformat_minor": 4
}
